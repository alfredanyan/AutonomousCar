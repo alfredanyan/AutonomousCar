{
 "cells": [
  {
   "cell_type": "code",
   "execution_count": 3,
   "metadata": {},
   "outputs": [],
   "source": [
    "p = [0.2,0.2,0.2,0.2,0.2]\n",
    "world =[\"green\",\"red\",\"red\",\"green\",\"green\"]\n",
    "measurements=[\"red\",\"green\"]\n",
    "motions = [1,1]\n",
    "pHit = 0.6\n",
    "pMiss = 0.2\n",
    "pExact = 0.8\n",
    "pOvershoot = 0.1\n",
    "pUndershoot = 0.1"
   ]
  },
  {
   "cell_type": "code",
   "execution_count": 5,
   "metadata": {},
   "outputs": [],
   "source": [
    "def sense(p,Z):\n",
    "        q=[]\n",
    "        for i in range(len(p)):\n",
    "            #evaluates to 1 or 0 depending on what Z is and world[i] is\n",
    "            hit = (Z == world[i])\n",
    "            #sets either pHit or pMiss 0 based on the value of hit\n",
    "            q.append(p[i]*(hit*pHit)+p[i]*((1-hit)*pMiss))\n",
    "        s=sum(q)\n",
    "        for i in range(len(q)):\n",
    "            q[i] = q[i]/s\n",
    "        return q\n"
   ]
  },
  {
   "cell_type": "code",
   "execution_count": 6,
   "metadata": {},
   "outputs": [],
   "source": [
    "def move(p, U):\n",
    "    q = []\n",
    "    for i in range(len(p)):\n",
    "        s = pExact * p[(i-U) % len(p)]\n",
    "        s = s + pOvershoot * p[(i-U-1) % len(p)]\n",
    "        s = s + pUndershoot * p[(i-U+1) % len(p)]\n",
    "        q.append(s)\n",
    "    return q"
   ]
  },
  {
   "cell_type": "code",
   "execution_count": 8,
   "metadata": {},
   "outputs": [
    {
     "name": "stdout",
     "output_type": "stream",
     "text": [
      "[0.21369651673066375, 0.29952345035655514, 0.11336738891936368, 0.13998902907295668, 0.23342361492046082]\n"
     ]
    }
   ],
   "source": [
    "\n",
    "for k in range(len(measurements)):\n",
    "    p = sense(p, measurements[k])\n",
    "    p = move(p, motions[k])\n",
    "\n",
    "print(p)"
   ]
  },
  {
   "cell_type": "code",
   "execution_count": null,
   "metadata": {},
   "outputs": [],
   "source": []
  }
 ],
 "metadata": {
  "kernelspec": {
   "display_name": "Python 3",
   "language": "python",
   "name": "python3"
  },
  "language_info": {
   "codemirror_mode": {
    "name": "ipython",
    "version": 3
   },
   "file_extension": ".py",
   "mimetype": "text/x-python",
   "name": "python",
   "nbconvert_exporter": "python",
   "pygments_lexer": "ipython3",
   "version": "3.5.6"
  }
 },
 "nbformat": 4,
 "nbformat_minor": 2
}
