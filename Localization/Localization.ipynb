{
 "cells": [
  {
   "cell_type": "markdown",
   "metadata": {},
   "source": [
    "Belief - Localization maintains a function over all possible places the road might be where each cell has an associated probability value\n",
    "Sense is the measurement update function which is the normalized product of the probability values (beliefs) by a corresponding weight based on if they match the measurement or not\n",
    "Motion - a convolution (for each possible location after the motion, we reverse engineer the situation and guess where the 'world' might have come from and add the corresponding probabilities)\n",
    "\n",
    "Probability function 0<= P(X) <= 1\n",
    "Summation of P(Xi) = 1\n",
    "Xi is a grid cell in the world\n",
    "\n",
    "Measurement update seeks to calculate a belief of my location after seeing the measurement P(X|Z)\n",
    "X = grid cell \n",
    "Z = measurement\n",
    "It takes our prior distribution, P(X), and tries to calculate the chances of seeing a red or green tile for every possible location P(Z|X)\n",
    "The product of the prior of the grid cell P(Xi) * measurement probability which was large if the color measurement corresponded to the color in the grid cell and small if not, P(Z|Xi) gives us the non normalized posterior distribution of the grid cell, P(Xi|Z).\n",
    "The normalizer is P(Z) which is the sum of P(Z|Xi)*P(Xi)\n",
    "## Sensing\n",
    "### Bayes Theorm\n",
    "X = grid cells;\n",
    "Z = measurement;\n",
    "P(X|Z) = measurement probability which is large if Z matches with X and small if Z does not match with X\n",
    "\n",
    "$$P(X|Z) =  \\frac{P(Z|X)P(X)}{P(Z)} = \\frac{P(Z|X)P(X)}{\\sum P(Z|X_{i})P( X_{i})} $$\n",
    "$$ \\bar{P}(X_i|Z) = P(Z|X_i)P(X_i) $$\n",
    "$$ \\alpha = \\sum \\bar{p}(X_i|Z) $$\n",
    "\n",
    "\n",
    "## Motion\n",
    "### Total Probability/ Convolution\n",
    "$$ P(X^t_i) = P(X^{t-i}_j).P(X_i|X_j) $$\n",
    "$$ P(A) = \\sum_b P(A|B)P(B) $$\n"
   ]
  },
  {
   "cell_type": "code",
   "execution_count": 9,
   "metadata": {},
   "outputs": [],
   "source": [
    "p = [0.2,0.2,0.2,0.2,0.2]\n",
    "# representing images of the surface of the world as a set of green and red patches\n",
    "# color of lane markings relative to the pavement\n",
    "# an entire field of observations\n",
    "# camera image in model\n",
    "world =[\"green\",\"red\",\"red\",\"green\",\"green\"]\n",
    "# representing camera images that the robot takes\n",
    "# camera image in measurement\n",
    "measurements=[\"red\",\"green\"]\n",
    "motions = [1,1]\n",
    "pHit = 0.6\n",
    "pMiss = 0.2\n",
    "pExact = 0.8\n",
    "pOvershoot = 0.1\n",
    "pUndershoot = 0.1"
   ]
  },
  {
   "cell_type": "code",
   "execution_count": 5,
   "metadata": {},
   "outputs": [],
   "source": [
    "def sense(p,Z):\n",
    "        q=[]\n",
    "        for i in range(len(p)):\n",
    "            #evaluates to 1 or 0 depending on what Z is and world[i] is\n",
    "            hit = (Z == world[i])\n",
    "            #sets either pHit or pMiss 0 based on the value of hit\n",
    "            q.append(p[i]*(hit*pHit)+p[i]*((1-hit)*pMiss))\n",
    "        s=sum(q)\n",
    "        for i in range(len(q)):\n",
    "            q[i] = q[i]/s\n",
    "        return q\n"
   ]
  },
  {
   "cell_type": "code",
   "execution_count": 6,
   "metadata": {},
   "outputs": [],
   "source": [
    "def move(p, U):\n",
    "    q = []\n",
    "    for i in range(len(p)):\n",
    "        s = pExact * p[(i-U) % len(p)]\n",
    "        s = s + pOvershoot * p[(i-U-1) % len(p)]\n",
    "        s = s + pUndershoot * p[(i-U+1) % len(p)]\n",
    "        q.append(s)\n",
    "    return q"
   ]
  },
  {
   "cell_type": "code",
   "execution_count": 8,
   "metadata": {},
   "outputs": [
    {
     "name": "stdout",
     "output_type": "stream",
     "text": [
      "[0.21369651673066375, 0.29952345035655514, 0.11336738891936368, 0.13998902907295668, 0.23342361492046082]\n"
     ]
    }
   ],
   "source": [
    "\n",
    "for k in range(len(measurements)):\n",
    "    p = sense(p, measurements[k])\n",
    "    p = move(p, motions[k])\n",
    "\n",
    "print(p)"
   ]
  },
  {
   "cell_type": "code",
   "execution_count": 10,
   "metadata": {},
   "outputs": [],
   "source": [
    "#representing a 4x5 dimensional world with only 2 possible colors\n",
    "colors = [['red', 'green', 'green', 'red', 'red',],\n",
    "         ['red', 'red', 'green', 'red', 'red',],\n",
    "         ['red', 'red', 'green', 'green', 'red',],\n",
    "         ['red', 'red', 'red', 'red', 'red',]]\n",
    "\n",
    "#measurement vector observing red twice\n",
    "# NOTE: always need to have as many measurements as motions (below)\n",
    "measurements = ['green', 'green', 'green', 'green', 'green']\n",
    "\n",
    "#motion vector indicating first stay in place - [0,0], then move one step to the right [0,1]\n",
    "#others are [1,0], for move down\n",
    "#[0,1] for move right\n",
    "#[-1, 0] move up\n",
    "\n",
    "motion = [[0, 0], [0, 1],[1, 0], [1, 0],[0, 1]]\n",
    "\n",
    "# probability that the sensor value is correct - in this case always correct \n",
    "# indicates a noise free sensor\n",
    "sensor_right = 1.0\n",
    "#At what probability the motion is executed correctly - now always correct. \n",
    "#smaller value indicates motion might fail in which case our robot wont move at all\n",
    "p_move = 1.0\n",
    "\n",
    "sensor_wrong = 1.0 - sensor_right\n",
    "p_stay = 1.0 - p_move\n"
   ]
  },
  {
   "cell_type": "code",
   "execution_count": null,
   "metadata": {},
   "outputs": [],
   "source": []
  }
 ],
 "metadata": {
  "kernelspec": {
   "display_name": "Python 3",
   "language": "python",
   "name": "python3"
  },
  "language_info": {
   "codemirror_mode": {
    "name": "ipython",
    "version": 3
   },
   "file_extension": ".py",
   "mimetype": "text/x-python",
   "name": "python",
   "nbconvert_exporter": "python",
   "pygments_lexer": "ipython3",
   "version": "3.5.6"
  }
 },
 "nbformat": 4,
 "nbformat_minor": 2
}
